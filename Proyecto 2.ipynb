{
 "cells": [
  {
   "cell_type": "code",
   "execution_count": 54,
   "id": "6a73e7a0",
   "metadata": {},
   "outputs": [],
   "source": [
    "import pandas as pd\n",
    "import numpy as np\n",
    "import requests\n",
    "from bs4 import BeautifulSoup\n",
    "import seaborn as sns\n",
    "import matplotlib.pyplot as plt\n"
   ]
  },
  {
   "cell_type": "code",
   "execution_count": 11,
   "id": "b7593815",
   "metadata": {},
   "outputs": [],
   "source": [
    "def load_data(path):\n",
    "    return pd.read_csv(path)"
   ]
  },
  {
   "cell_type": "code",
   "execution_count": 93,
   "id": "7598c7f3",
   "metadata": {},
   "outputs": [],
   "source": [
    "df = load_data(\"summer.csv\")"
   ]
  },
  {
   "cell_type": "code",
   "execution_count": 94,
   "id": "c89a0786",
   "metadata": {},
   "outputs": [
    {
     "data": {
      "text/plain": [
       "array(['Swimming', 'Athletics', 'Cycling Road', 'Cycling Track',\n",
       "       'Fencing', 'Artistic G.', 'Shooting', 'Tennis', 'Weightlifting',\n",
       "       'Wrestling Gre-R', 'Water polo', 'Archery', 'Basque Pelota',\n",
       "       'Cricket', 'Croquet', 'Jumping', 'Football', 'Golf', 'Polo',\n",
       "       'Rowing', 'Rugby', 'Sailing', 'Tug of War', 'Diving', 'Boxing',\n",
       "       'Lacrosse', 'Roque', 'Wrestling Free.', 'Hockey', 'Jeu de Paume',\n",
       "       'Rackets', 'Figure skating', 'Water Motorspor', 'Dressage',\n",
       "       'Eventing', 'Modern Pentath.', 'Vaulting', 'Ice Hockey',\n",
       "       'Basketball', 'Canoe / Kayak F', 'Handball', 'Judo', 'Volleyball',\n",
       "       'Canoe / Kayak S', 'Synchronized S.', 'Rhythmic G.',\n",
       "       'Table Tennis', 'Badminton', 'Baseball', 'Mountain Bike',\n",
       "       'Softball', 'Beach volley.', 'Trampoline', 'Taekwondo',\n",
       "       'Triathlon', 'BMX', 'Marathon swimming', 'Synchronized Swimming',\n",
       "       'Water Polo', 'Canoe Slalom', 'Canoe Sprint', 'Cycling BMX',\n",
       "       'Gymnastics Artistic', 'Gymnastics Rhythmic', 'Modern Pentathlon',\n",
       "       'Beach Volleyball', 'Wrestling Freestyle'], dtype=object)"
      ]
     },
     "execution_count": 94,
     "metadata": {},
     "output_type": "execute_result"
    }
   ],
   "source": [
    "df.Discipline.unique()"
   ]
  },
  {
   "cell_type": "code",
   "execution_count": 95,
   "id": "ad40e7df",
   "metadata": {},
   "outputs": [
    {
     "data": {
      "text/html": [
       "<div>\n",
       "<style scoped>\n",
       "    .dataframe tbody tr th:only-of-type {\n",
       "        vertical-align: middle;\n",
       "    }\n",
       "\n",
       "    .dataframe tbody tr th {\n",
       "        vertical-align: top;\n",
       "    }\n",
       "\n",
       "    .dataframe thead th {\n",
       "        text-align: right;\n",
       "    }\n",
       "</style>\n",
       "<table border=\"1\" class=\"dataframe\">\n",
       "  <thead>\n",
       "    <tr style=\"text-align: right;\">\n",
       "      <th></th>\n",
       "      <th>Year</th>\n",
       "      <th>City</th>\n",
       "      <th>Sport</th>\n",
       "      <th>Discipline</th>\n",
       "      <th>Athlete</th>\n",
       "      <th>Country</th>\n",
       "      <th>Gender</th>\n",
       "      <th>Event</th>\n",
       "      <th>Medal</th>\n",
       "    </tr>\n",
       "  </thead>\n",
       "  <tbody>\n",
       "    <tr>\n",
       "      <th>0</th>\n",
       "      <td>1896</td>\n",
       "      <td>Athens</td>\n",
       "      <td>Aquatics</td>\n",
       "      <td>Swimming</td>\n",
       "      <td>HAJOS, Alfred</td>\n",
       "      <td>HUN</td>\n",
       "      <td>Men</td>\n",
       "      <td>100M Freestyle</td>\n",
       "      <td>Gold</td>\n",
       "    </tr>\n",
       "    <tr>\n",
       "      <th>1</th>\n",
       "      <td>1896</td>\n",
       "      <td>Athens</td>\n",
       "      <td>Aquatics</td>\n",
       "      <td>Swimming</td>\n",
       "      <td>HERSCHMANN, Otto</td>\n",
       "      <td>AUT</td>\n",
       "      <td>Men</td>\n",
       "      <td>100M Freestyle</td>\n",
       "      <td>Silver</td>\n",
       "    </tr>\n",
       "    <tr>\n",
       "      <th>2</th>\n",
       "      <td>1896</td>\n",
       "      <td>Athens</td>\n",
       "      <td>Aquatics</td>\n",
       "      <td>Swimming</td>\n",
       "      <td>DRIVAS, Dimitrios</td>\n",
       "      <td>GRE</td>\n",
       "      <td>Men</td>\n",
       "      <td>100M Freestyle For Sailors</td>\n",
       "      <td>Bronze</td>\n",
       "    </tr>\n",
       "    <tr>\n",
       "      <th>3</th>\n",
       "      <td>1896</td>\n",
       "      <td>Athens</td>\n",
       "      <td>Aquatics</td>\n",
       "      <td>Swimming</td>\n",
       "      <td>MALOKINIS, Ioannis</td>\n",
       "      <td>GRE</td>\n",
       "      <td>Men</td>\n",
       "      <td>100M Freestyle For Sailors</td>\n",
       "      <td>Gold</td>\n",
       "    </tr>\n",
       "    <tr>\n",
       "      <th>4</th>\n",
       "      <td>1896</td>\n",
       "      <td>Athens</td>\n",
       "      <td>Aquatics</td>\n",
       "      <td>Swimming</td>\n",
       "      <td>CHASAPIS, Spiridon</td>\n",
       "      <td>GRE</td>\n",
       "      <td>Men</td>\n",
       "      <td>100M Freestyle For Sailors</td>\n",
       "      <td>Silver</td>\n",
       "    </tr>\n",
       "  </tbody>\n",
       "</table>\n",
       "</div>"
      ],
      "text/plain": [
       "   Year    City     Sport Discipline             Athlete Country Gender  \\\n",
       "0  1896  Athens  Aquatics   Swimming       HAJOS, Alfred     HUN    Men   \n",
       "1  1896  Athens  Aquatics   Swimming    HERSCHMANN, Otto     AUT    Men   \n",
       "2  1896  Athens  Aquatics   Swimming   DRIVAS, Dimitrios     GRE    Men   \n",
       "3  1896  Athens  Aquatics   Swimming  MALOKINIS, Ioannis     GRE    Men   \n",
       "4  1896  Athens  Aquatics   Swimming  CHASAPIS, Spiridon     GRE    Men   \n",
       "\n",
       "                        Event   Medal  \n",
       "0              100M Freestyle    Gold  \n",
       "1              100M Freestyle  Silver  \n",
       "2  100M Freestyle For Sailors  Bronze  \n",
       "3  100M Freestyle For Sailors    Gold  \n",
       "4  100M Freestyle For Sailors  Silver  "
      ]
     },
     "execution_count": 95,
     "metadata": {},
     "output_type": "execute_result"
    }
   ],
   "source": [
    "df.head()"
   ]
  },
  {
   "cell_type": "code",
   "execution_count": 96,
   "id": "cc09c793",
   "metadata": {},
   "outputs": [],
   "source": [
    "def drop_col(col, df):\n",
    "    df.drop(col, axis = 1, inplace=True)"
   ]
  },
  {
   "cell_type": "code",
   "execution_count": 97,
   "id": "534ee9ff",
   "metadata": {},
   "outputs": [
    {
     "name": "stdout",
     "output_type": "stream",
     "text": [
      "Index(['Year', 'City', 'Sport', 'Discipline', 'Athlete', 'Country', 'Gender',\n",
      "       'Event', 'Medal'],\n",
      "      dtype='object')\n"
     ]
    }
   ],
   "source": [
    "print(df.columns)"
   ]
  },
  {
   "cell_type": "code",
   "execution_count": 98,
   "id": "ecc2fda0",
   "metadata": {
    "scrolled": true
   },
   "outputs": [],
   "source": [
    "drop_col(\"Sport\", df)"
   ]
  },
  {
   "cell_type": "code",
   "execution_count": 99,
   "id": "4bd66a01",
   "metadata": {},
   "outputs": [
    {
     "data": {
      "text/plain": [
       "Index(['Year', 'City', 'Discipline', 'Athlete', 'Country', 'Gender', 'Event',\n",
       "       'Medal'],\n",
       "      dtype='object')"
      ]
     },
     "execution_count": 99,
     "metadata": {},
     "output_type": "execute_result"
    }
   ],
   "source": [
    "df.columns"
   ]
  },
  {
   "cell_type": "code",
   "execution_count": 100,
   "id": "c4bd7bd7",
   "metadata": {},
   "outputs": [
    {
     "data": {
      "text/html": [
       "<div>\n",
       "<style scoped>\n",
       "    .dataframe tbody tr th:only-of-type {\n",
       "        vertical-align: middle;\n",
       "    }\n",
       "\n",
       "    .dataframe tbody tr th {\n",
       "        vertical-align: top;\n",
       "    }\n",
       "\n",
       "    .dataframe thead th {\n",
       "        text-align: right;\n",
       "    }\n",
       "</style>\n",
       "<table border=\"1\" class=\"dataframe\">\n",
       "  <thead>\n",
       "    <tr style=\"text-align: right;\">\n",
       "      <th></th>\n",
       "      <th>Year</th>\n",
       "      <th>City</th>\n",
       "      <th>Discipline</th>\n",
       "      <th>Athlete</th>\n",
       "      <th>Country</th>\n",
       "      <th>Gender</th>\n",
       "      <th>Event</th>\n",
       "      <th>Medal</th>\n",
       "    </tr>\n",
       "  </thead>\n",
       "  <tbody>\n",
       "    <tr>\n",
       "      <th>0</th>\n",
       "      <td>1896</td>\n",
       "      <td>Athens</td>\n",
       "      <td>Swimming</td>\n",
       "      <td>HAJOS, Alfred</td>\n",
       "      <td>HUN</td>\n",
       "      <td>Men</td>\n",
       "      <td>100M Freestyle</td>\n",
       "      <td>Gold</td>\n",
       "    </tr>\n",
       "    <tr>\n",
       "      <th>1</th>\n",
       "      <td>1896</td>\n",
       "      <td>Athens</td>\n",
       "      <td>Swimming</td>\n",
       "      <td>HERSCHMANN, Otto</td>\n",
       "      <td>AUT</td>\n",
       "      <td>Men</td>\n",
       "      <td>100M Freestyle</td>\n",
       "      <td>Silver</td>\n",
       "    </tr>\n",
       "    <tr>\n",
       "      <th>2</th>\n",
       "      <td>1896</td>\n",
       "      <td>Athens</td>\n",
       "      <td>Swimming</td>\n",
       "      <td>DRIVAS, Dimitrios</td>\n",
       "      <td>GRE</td>\n",
       "      <td>Men</td>\n",
       "      <td>100M Freestyle For Sailors</td>\n",
       "      <td>Bronze</td>\n",
       "    </tr>\n",
       "    <tr>\n",
       "      <th>3</th>\n",
       "      <td>1896</td>\n",
       "      <td>Athens</td>\n",
       "      <td>Swimming</td>\n",
       "      <td>MALOKINIS, Ioannis</td>\n",
       "      <td>GRE</td>\n",
       "      <td>Men</td>\n",
       "      <td>100M Freestyle For Sailors</td>\n",
       "      <td>Gold</td>\n",
       "    </tr>\n",
       "    <tr>\n",
       "      <th>4</th>\n",
       "      <td>1896</td>\n",
       "      <td>Athens</td>\n",
       "      <td>Swimming</td>\n",
       "      <td>CHASAPIS, Spiridon</td>\n",
       "      <td>GRE</td>\n",
       "      <td>Men</td>\n",
       "      <td>100M Freestyle For Sailors</td>\n",
       "      <td>Silver</td>\n",
       "    </tr>\n",
       "  </tbody>\n",
       "</table>\n",
       "</div>"
      ],
      "text/plain": [
       "   Year    City Discipline             Athlete Country Gender  \\\n",
       "0  1896  Athens   Swimming       HAJOS, Alfred     HUN    Men   \n",
       "1  1896  Athens   Swimming    HERSCHMANN, Otto     AUT    Men   \n",
       "2  1896  Athens   Swimming   DRIVAS, Dimitrios     GRE    Men   \n",
       "3  1896  Athens   Swimming  MALOKINIS, Ioannis     GRE    Men   \n",
       "4  1896  Athens   Swimming  CHASAPIS, Spiridon     GRE    Men   \n",
       "\n",
       "                        Event   Medal  \n",
       "0              100M Freestyle    Gold  \n",
       "1              100M Freestyle  Silver  \n",
       "2  100M Freestyle For Sailors  Bronze  \n",
       "3  100M Freestyle For Sailors    Gold  \n",
       "4  100M Freestyle For Sailors  Silver  "
      ]
     },
     "execution_count": 100,
     "metadata": {},
     "output_type": "execute_result"
    }
   ],
   "source": [
    "df.head()"
   ]
  },
  {
   "cell_type": "code",
   "execution_count": 453,
   "id": "1d1fd645",
   "metadata": {},
   "outputs": [],
   "source": [
    "def nan(df):\n",
    "    df.dropna(axis=0, how = \"all\",inplace=True)\n",
    "    df.dropna(axis=1, how = \"all\",inplace=True)\n",
    "    return df"
   ]
  },
  {
   "cell_type": "code",
   "execution_count": 51,
   "id": "646f8e14",
   "metadata": {},
   "outputs": [],
   "source": [
    "df2= df[df[\"Country\"] == \"ESP\"]"
   ]
  },
  {
   "cell_type": "code",
   "execution_count": 53,
   "id": "6f3249ec",
   "metadata": {},
   "outputs": [
    {
     "data": {
      "text/html": [
       "<div>\n",
       "<style scoped>\n",
       "    .dataframe tbody tr th:only-of-type {\n",
       "        vertical-align: middle;\n",
       "    }\n",
       "\n",
       "    .dataframe tbody tr th {\n",
       "        vertical-align: top;\n",
       "    }\n",
       "\n",
       "    .dataframe thead th {\n",
       "        text-align: right;\n",
       "    }\n",
       "</style>\n",
       "<table border=\"1\" class=\"dataframe\">\n",
       "  <thead>\n",
       "    <tr style=\"text-align: right;\">\n",
       "      <th></th>\n",
       "      <th>Year</th>\n",
       "      <th>City</th>\n",
       "      <th>Discipline</th>\n",
       "      <th>Athlete</th>\n",
       "      <th>Country</th>\n",
       "      <th>Gender</th>\n",
       "      <th>Event</th>\n",
       "      <th>Medal</th>\n",
       "    </tr>\n",
       "  </thead>\n",
       "  <tbody>\n",
       "    <tr>\n",
       "      <th>306</th>\n",
       "      <td>1900</td>\n",
       "      <td>Paris</td>\n",
       "      <td>Basque Pelota</td>\n",
       "      <td>De AMEZOLA y ASPIZUA, José</td>\n",
       "      <td>ESP</td>\n",
       "      <td>Men</td>\n",
       "      <td>Cesta Punta</td>\n",
       "      <td>Gold</td>\n",
       "    </tr>\n",
       "    <tr>\n",
       "      <th>307</th>\n",
       "      <td>1900</td>\n",
       "      <td>Paris</td>\n",
       "      <td>Basque Pelota</td>\n",
       "      <td>VILLOTA BAQUIOLA, Francisco</td>\n",
       "      <td>ESP</td>\n",
       "      <td>Men</td>\n",
       "      <td>Cesta Punta</td>\n",
       "      <td>Gold</td>\n",
       "    </tr>\n",
       "    <tr>\n",
       "      <th>3315</th>\n",
       "      <td>1920</td>\n",
       "      <td>Antwerp</td>\n",
       "      <td>Football</td>\n",
       "      <td>ACEDO, Domingo</td>\n",
       "      <td>ESP</td>\n",
       "      <td>Men</td>\n",
       "      <td>Football</td>\n",
       "      <td>Silver</td>\n",
       "    </tr>\n",
       "    <tr>\n",
       "      <th>3316</th>\n",
       "      <td>1920</td>\n",
       "      <td>Antwerp</td>\n",
       "      <td>Football</td>\n",
       "      <td>ARABOLAZA, Patricio</td>\n",
       "      <td>ESP</td>\n",
       "      <td>Men</td>\n",
       "      <td>Football</td>\n",
       "      <td>Silver</td>\n",
       "    </tr>\n",
       "    <tr>\n",
       "      <th>3317</th>\n",
       "      <td>1920</td>\n",
       "      <td>Antwerp</td>\n",
       "      <td>Football</td>\n",
       "      <td>ARRATE, Mariano</td>\n",
       "      <td>ESP</td>\n",
       "      <td>Men</td>\n",
       "      <td>Football</td>\n",
       "      <td>Silver</td>\n",
       "    </tr>\n",
       "  </tbody>\n",
       "</table>\n",
       "</div>"
      ],
      "text/plain": [
       "      Year     City     Discipline                      Athlete Country  \\\n",
       "306   1900    Paris  Basque Pelota   De AMEZOLA y ASPIZUA, José     ESP   \n",
       "307   1900    Paris  Basque Pelota  VILLOTA BAQUIOLA, Francisco     ESP   \n",
       "3315  1920  Antwerp       Football               ACEDO, Domingo     ESP   \n",
       "3316  1920  Antwerp       Football          ARABOLAZA, Patricio     ESP   \n",
       "3317  1920  Antwerp       Football              ARRATE, Mariano     ESP   \n",
       "\n",
       "     Gender        Event   Medal  \n",
       "306     Men  Cesta Punta    Gold  \n",
       "307     Men  Cesta Punta    Gold  \n",
       "3315    Men     Football  Silver  \n",
       "3316    Men     Football  Silver  \n",
       "3317    Men     Football  Silver  "
      ]
     },
     "execution_count": 53,
     "metadata": {},
     "output_type": "execute_result"
    }
   ],
   "source": [
    "df2.head()"
   ]
  },
  {
   "cell_type": "code",
   "execution_count": 454,
   "id": "057a988e",
   "metadata": {},
   "outputs": [],
   "source": [
    "def nan(df):\n",
    "    df.dropna(axis=0, how = \"all\",inplace=True)\n",
    "    df.dropna(axis=1, how = \"all\",inplace=True)\n",
    "    return df"
   ]
  },
  {
   "cell_type": "code",
   "execution_count": 456,
   "id": "49854430",
   "metadata": {},
   "outputs": [],
   "source": [
    "def filna(df):\n",
    "    col_n = list(df.select_dtypes(include=\"object\").columns) \n",
    "    for col in list(df.columns):\n",
    "        if col in col_n:\n",
    "            df.fillna(\"Not Specified\",inplace=True)\n",
    "        else:\n",
    "            df.fillna(-1,inplace=True)\n",
    "    return df"
   ]
  },
  {
   "cell_type": "markdown",
   "id": "bafc57d5",
   "metadata": {},
   "source": [
    "## Gráfico del histórico de las medallas ganadas por España"
   ]
  },
  {
   "cell_type": "code",
   "execution_count": 57,
   "id": "d1f7beb2",
   "metadata": {},
   "outputs": [
    {
     "data": {
      "text/plain": [
       "<AxesSubplot:xlabel='Medal', ylabel='Count'>"
      ]
     },
     "execution_count": 57,
     "metadata": {},
     "output_type": "execute_result"
    },
    {
     "data": {
      "image/png": "[encoded data removed]",
      "text/plain": [
       "<Figure size 1152x576 with 1 Axes>"
      ]
     },
     "metadata": {},
     "output_type": "display_data"
    }
   ],
   "source": [
    "sns.set_context(\"poster\")\n",
    "sns.set(rc={\"figure.figsize\": (16.,8.)})\n",
    "sns.set_style(\"whitegrid\")\n",
    "\n",
    "sns.histplot(x=df2.Medal,kde=True)"
   ]
  },
  {
   "cell_type": "code",
   "execution_count": 60,
   "id": "b38c3dc8",
   "metadata": {},
   "outputs": [],
   "source": [
    "medals_per_country = df.Country.value_counts()"
   ]
  },
  {
   "cell_type": "code",
   "execution_count": 63,
   "id": "82b56f6d",
   "metadata": {},
   "outputs": [
    {
     "data": {
      "text/plain": [
       "USA    4585\n",
       "URS    2049\n",
       "GBR    1720\n",
       "FRA    1396\n",
       "GER    1305\n",
       "Name: Country, dtype: int64"
      ]
     },
     "execution_count": 63,
     "metadata": {},
     "output_type": "execute_result"
    }
   ],
   "source": [
    "medals_per_country.head()"
   ]
  },
  {
   "cell_type": "code",
   "execution_count": 68,
   "id": "93244fa7",
   "metadata": {},
   "outputs": [
    {
     "data": {
      "text/plain": [
       "pandas.core.series.Series"
      ]
     },
     "execution_count": 68,
     "metadata": {},
     "output_type": "execute_result"
    }
   ],
   "source": [
    "type(medals_per_country)"
   ]
  },
  {
   "cell_type": "code",
   "execution_count": 88,
   "id": "8ce1e3ee",
   "metadata": {},
   "outputs": [],
   "source": [
    "df1 = pd.DataFrame(medals_per_country)"
   ]
  },
  {
   "cell_type": "code",
   "execution_count": 89,
   "id": "7e6c9698",
   "metadata": {},
   "outputs": [],
   "source": [
    "df1.reset_index(inplace = True)"
   ]
  },
  {
   "cell_type": "code",
   "execution_count": 90,
   "id": "e7201542",
   "metadata": {},
   "outputs": [],
   "source": [
    "df1.columns = [\"Country\", \"medals\"]"
   ]
  },
  {
   "cell_type": "code",
   "execution_count": 91,
   "id": "9ec02d60",
   "metadata": {},
   "outputs": [
    {
     "data": {
      "text/html": [
       "<div>\n",
       "<style scoped>\n",
       "    .dataframe tbody tr th:only-of-type {\n",
       "        vertical-align: middle;\n",
       "    }\n",
       "\n",
       "    .dataframe tbody tr th {\n",
       "        vertical-align: top;\n",
       "    }\n",
       "\n",
       "    .dataframe thead th {\n",
       "        text-align: right;\n",
       "    }\n",
       "</style>\n",
       "<table border=\"1\" class=\"dataframe\">\n",
       "  <thead>\n",
       "    <tr style=\"text-align: right;\">\n",
       "      <th></th>\n",
       "      <th>Country</th>\n",
       "      <th>medals</th>\n",
       "    </tr>\n",
       "  </thead>\n",
       "  <tbody>\n",
       "    <tr>\n",
       "      <th>0</th>\n",
       "      <td>USA</td>\n",
       "      <td>4585</td>\n",
       "    </tr>\n",
       "    <tr>\n",
       "      <th>1</th>\n",
       "      <td>URS</td>\n",
       "      <td>2049</td>\n",
       "    </tr>\n",
       "    <tr>\n",
       "      <th>2</th>\n",
       "      <td>GBR</td>\n",
       "      <td>1720</td>\n",
       "    </tr>\n",
       "    <tr>\n",
       "      <th>3</th>\n",
       "      <td>FRA</td>\n",
       "      <td>1396</td>\n",
       "    </tr>\n",
       "    <tr>\n",
       "      <th>4</th>\n",
       "      <td>GER</td>\n",
       "      <td>1305</td>\n",
       "    </tr>\n",
       "    <tr>\n",
       "      <th>...</th>\n",
       "      <td>...</td>\n",
       "      <td>...</td>\n",
       "    </tr>\n",
       "    <tr>\n",
       "      <th>142</th>\n",
       "      <td>CIV</td>\n",
       "      <td>1</td>\n",
       "    </tr>\n",
       "    <tr>\n",
       "      <th>143</th>\n",
       "      <td>BDI</td>\n",
       "      <td>1</td>\n",
       "    </tr>\n",
       "    <tr>\n",
       "      <th>144</th>\n",
       "      <td>SEN</td>\n",
       "      <td>1</td>\n",
       "    </tr>\n",
       "    <tr>\n",
       "      <th>145</th>\n",
       "      <td>DJI</td>\n",
       "      <td>1</td>\n",
       "    </tr>\n",
       "    <tr>\n",
       "      <th>146</th>\n",
       "      <td>GAB</td>\n",
       "      <td>1</td>\n",
       "    </tr>\n",
       "  </tbody>\n",
       "</table>\n",
       "<p>147 rows × 2 columns</p>\n",
       "</div>"
      ],
      "text/plain": [
       "    Country  medals\n",
       "0       USA    4585\n",
       "1       URS    2049\n",
       "2       GBR    1720\n",
       "3       FRA    1396\n",
       "4       GER    1305\n",
       "..      ...     ...\n",
       "142     CIV       1\n",
       "143     BDI       1\n",
       "144     SEN       1\n",
       "145     DJI       1\n",
       "146     GAB       1\n",
       "\n",
       "[147 rows x 2 columns]"
      ]
     },
     "execution_count": 91,
     "metadata": {},
     "output_type": "execute_result"
    }
   ],
   "source": [
    "df1"
   ]
  },
  {
   "cell_type": "code",
   "execution_count": 92,
   "id": "18559b38",
   "metadata": {},
   "outputs": [],
   "source": [
    "plus_medals = df1[df1.medals > 1000]"
   ]
  },
  {
   "cell_type": "code",
   "execution_count": 81,
   "id": "bdd9bd0a",
   "metadata": {},
   "outputs": [
    {
     "data": {
      "text/html": [
       "<div>\n",
       "<style scoped>\n",
       "    .dataframe tbody tr th:only-of-type {\n",
       "        vertical-align: middle;\n",
       "    }\n",
       "\n",
       "    .dataframe tbody tr th {\n",
       "        vertical-align: top;\n",
       "    }\n",
       "\n",
       "    .dataframe thead th {\n",
       "        text-align: right;\n",
       "    }\n",
       "</style>\n",
       "<table border=\"1\" class=\"dataframe\">\n",
       "  <thead>\n",
       "    <tr style=\"text-align: right;\">\n",
       "      <th></th>\n",
       "      <th>Country</th>\n",
       "      <th>medals</th>\n",
       "    </tr>\n",
       "  </thead>\n",
       "  <tbody>\n",
       "    <tr>\n",
       "      <th>0</th>\n",
       "      <td>USA</td>\n",
       "      <td>4585</td>\n",
       "    </tr>\n",
       "    <tr>\n",
       "      <th>1</th>\n",
       "      <td>URS</td>\n",
       "      <td>2049</td>\n",
       "    </tr>\n",
       "    <tr>\n",
       "      <th>2</th>\n",
       "      <td>GBR</td>\n",
       "      <td>1720</td>\n",
       "    </tr>\n",
       "    <tr>\n",
       "      <th>3</th>\n",
       "      <td>FRA</td>\n",
       "      <td>1396</td>\n",
       "    </tr>\n",
       "    <tr>\n",
       "      <th>4</th>\n",
       "      <td>GER</td>\n",
       "      <td>1305</td>\n",
       "    </tr>\n",
       "    <tr>\n",
       "      <th>5</th>\n",
       "      <td>ITA</td>\n",
       "      <td>1296</td>\n",
       "    </tr>\n",
       "    <tr>\n",
       "      <th>6</th>\n",
       "      <td>AUS</td>\n",
       "      <td>1189</td>\n",
       "    </tr>\n",
       "    <tr>\n",
       "      <th>7</th>\n",
       "      <td>HUN</td>\n",
       "      <td>1079</td>\n",
       "    </tr>\n",
       "    <tr>\n",
       "      <th>8</th>\n",
       "      <td>SWE</td>\n",
       "      <td>1044</td>\n",
       "    </tr>\n",
       "  </tbody>\n",
       "</table>\n",
       "</div>"
      ],
      "text/plain": [
       "  Country  medals\n",
       "0     USA    4585\n",
       "1     URS    2049\n",
       "2     GBR    1720\n",
       "3     FRA    1396\n",
       "4     GER    1305\n",
       "5     ITA    1296\n",
       "6     AUS    1189\n",
       "7     HUN    1079\n",
       "8     SWE    1044"
      ]
     },
     "execution_count": 81,
     "metadata": {},
     "output_type": "execute_result"
    }
   ],
   "source": [
    "plus_medals"
   ]
  },
  {
   "cell_type": "markdown",
   "id": "30e92392",
   "metadata": {},
   "source": [
    "## Ránkig del total de medallas ganadas a lo largo de los años"
   ]
  },
  {
   "cell_type": "code",
   "execution_count": 372,
   "id": "88419ecd",
   "metadata": {
    "scrolled": true
   },
   "outputs": [
    {
     "data": {
      "text/plain": [
       "<AxesSubplot:xlabel='Country', ylabel='medals'>"
      ]
     },
     "execution_count": 372,
     "metadata": {},
     "output_type": "execute_result"
    },
    {
     "data": {
      "image/png": "[encoded data removed]",
      "text/plain": [
       "<Figure size 864x576 with 1 Axes>"
      ]
     },
     "metadata": {},
     "output_type": "display_data"
    }
   ],
   "source": [
    "fig, ax = plt.subplots(figsize=(12,8))\n",
    "sns.barplot(x=\"Country\", y=\"medals\", data=plus_medals, palette=\"magma\")"
   ]
  },
  {
   "cell_type": "code",
   "execution_count": 37,
   "id": "d361df5c",
   "metadata": {},
   "outputs": [
    {
     "data": {
      "text/plain": [
       "0        False\n",
       "1        False\n",
       "2        False\n",
       "3        False\n",
       "4        False\n",
       "         ...  \n",
       "31160    False\n",
       "31161    False\n",
       "31162    False\n",
       "31163    False\n",
       "31164    False\n",
       "Length: 31165, dtype: bool"
      ]
     },
     "execution_count": 37,
     "metadata": {},
     "output_type": "execute_result"
    }
   ],
   "source": [
    "df.duplicated()"
   ]
  },
  {
   "cell_type": "code",
   "execution_count": 38,
   "id": "8072fb9f",
   "metadata": {},
   "outputs": [
    {
     "data": {
      "text/plain": [
       "array(['HUN', 'AUT', 'GRE', 'USA', 'GER', 'GBR', 'FRA', 'AUS', 'DEN',\n",
       "       'SUI', 'ZZX', 'NED', 'BEL', 'IND', 'CAN', 'BOH', 'SWE', 'NOR',\n",
       "       'ESP', 'ITA', 'CUB', 'ANZ', 'RSA', 'FIN', 'RU1', 'EST', 'TCH',\n",
       "       'NZL', 'BRA', 'JPN', 'LUX', 'ARG', 'POL', 'POR', 'URU', 'YUG',\n",
       "       'ROU', 'HAI', 'EGY', 'PHI', 'IRL', 'CHI', 'LAT', 'MEX', 'TUR',\n",
       "       'PAN', 'JAM', 'SRI', 'KOR', 'PUR', 'PER', 'IRI', 'TRI', 'URS',\n",
       "       'VEN', 'BUL', 'LIB', 'EUA', 'ISL', 'PAK', 'BAH', 'BWI', 'TPE',\n",
       "       'ETH', 'MAR', 'GHA', 'IRQ', 'SIN', 'TUN', 'KEN', 'NGR', 'GDR',\n",
       "       'FRG', 'UGA', 'CMR', 'MGL', 'PRK', 'COL', 'NIG', 'THA', 'BER',\n",
       "       'TAN', 'GUY', 'ZIM', 'CHN', 'CIV', 'ZAM', 'DOM', 'ALG', 'SYR',\n",
       "       'SUR', 'CRC', 'INA', 'SEN', 'DJI', 'AHO', 'ISV', 'EUN', 'NAM',\n",
       "       'QAT', 'LTU', 'MAS', 'CRO', 'ISR', 'SLO', 'IOP', 'RUS', 'UKR',\n",
       "       'ECU', 'BDI', 'MOZ', 'CZE', 'BLR', 'TGA', 'KAZ', 'UZB', 'SVK',\n",
       "       'MDA', 'GEO', 'HKG', 'ARM', 'AZE', 'BAR', 'KSA', 'KGZ', 'KUW',\n",
       "       'VIE', 'MKD', 'SCG', 'ERI', 'PAR', 'UAE', 'SRB', 'SUD', 'MRI',\n",
       "       'TOG', 'TJK', 'AFG', nan, 'BRN', 'GUA', 'GRN', 'TTO', 'BOT', 'MNE',\n",
       "       'CYP', 'SGP', 'GAB'], dtype=object)"
      ]
     },
     "execution_count": 38,
     "metadata": {},
     "output_type": "execute_result"
    }
   ],
   "source": [
    "df.Country.unique()"
   ]
  },
  {
   "cell_type": "markdown",
   "id": "14f37865",
   "metadata": {},
   "source": [
    "# Data from DataSet is only up to 2012 Olimpics"
   ]
  },
  {
   "cell_type": "markdown",
   "id": "eff3cab0",
   "metadata": {},
   "source": [
    "## I need to Scrap two different links for 2016 & 2021 Olympics in order to have the info updated"
   ]
  },
  {
   "cell_type": "markdown",
   "id": "fbab876e",
   "metadata": {},
   "source": [
    "# 1. Scraping Olympics Río 2016 From Wikipedia"
   ]
  },
  {
   "cell_type": "code",
   "execution_count": 417,
   "id": "ff859f5c",
   "metadata": {},
   "outputs": [],
   "source": [
    "url = \"https://es.wikipedia.org/wiki/Anexo:Medallero_de_los_Juegos_Ol%C3%ADmpicos_de_R%C3%ADo_de_Janeiro_2016\""
   ]
  },
  {
   "cell_type": "code",
   "execution_count": 418,
   "id": "fc9ed07a",
   "metadata": {},
   "outputs": [],
   "source": [
    "response = requests.get(url)"
   ]
  },
  {
   "cell_type": "code",
   "execution_count": 419,
   "id": "eb9aa39c",
   "metadata": {},
   "outputs": [
    {
     "name": "stdout",
     "output_type": "stream",
     "text": [
      "Response is not JSON\n"
     ]
    }
   ],
   "source": [
    "try:\n",
    "    response.json()\n",
    "except:\n",
    "    print(\"Response is not JSON\")"
   ]
  },
  {
   "cell_type": "code",
   "execution_count": 420,
   "id": "ceab2d82",
   "metadata": {},
   "outputs": [
    {
     "data": {
      "text/plain": [
       "128100"
      ]
     },
     "execution_count": 420,
     "metadata": {},
     "output_type": "execute_result"
    }
   ],
   "source": [
    "len(response.content)"
   ]
  },
  {
   "cell_type": "code",
   "execution_count": 421,
   "id": "de59622f",
   "metadata": {},
   "outputs": [
    {
     "data": {
      "text/plain": [
       "True"
      ]
     },
     "execution_count": 421,
     "metadata": {},
     "output_type": "execute_result"
    }
   ],
   "source": [
    "\"<span>\" in str(response.content)\n"
   ]
  },
  {
   "cell_type": "code",
   "execution_count": 422,
   "id": "66775d6a",
   "metadata": {},
   "outputs": [],
   "source": [
    "soup = BeautifulSoup(response.content)\n"
   ]
  },
  {
   "cell_type": "code",
   "execution_count": 423,
   "id": "2dff76f5",
   "metadata": {},
   "outputs": [
    {
     "data": {
      "text/plain": [
       "<title>Anexo:Medallero de los Juegos Olímpicos de Río de Janeiro 2016 - Wikipedia, la enciclopedia libre</title>"
      ]
     },
     "execution_count": 423,
     "metadata": {},
     "output_type": "execute_result"
    }
   ],
   "source": [
    "soup.find(\"title\")\n"
   ]
  },
  {
   "cell_type": "code",
   "execution_count": 424,
   "id": "7cf0dab7",
   "metadata": {},
   "outputs": [
    {
     "data": {
      "text/plain": [
       "128"
      ]
     },
     "execution_count": 424,
     "metadata": {},
     "output_type": "execute_result"
    }
   ],
   "source": [
    "len(soup.find_all(\"span\"))\n"
   ]
  },
  {
   "cell_type": "code",
   "execution_count": 425,
   "id": "74ee394b",
   "metadata": {},
   "outputs": [],
   "source": [
    "medallas = soup.find_all(\"table\")"
   ]
  },
  {
   "cell_type": "code",
   "execution_count": 426,
   "id": "cbfaf389",
   "metadata": {},
   "outputs": [
    {
     "data": {
      "text/plain": [
       "3"
      ]
     },
     "execution_count": 426,
     "metadata": {},
     "output_type": "execute_result"
    }
   ],
   "source": [
    "len(medallas)\n"
   ]
  },
  {
   "cell_type": "code",
   "execution_count": 427,
   "id": "4d14a50f",
   "metadata": {},
   "outputs": [],
   "source": [
    "for i, t in enumerate(medallas):\n",
    "    if \"Unificado\" in str(t) and \"45\" in str(t):\n",
    "        print(i)"
   ]
  },
  {
   "cell_type": "code",
   "execution_count": 428,
   "id": "ab18bbf7",
   "metadata": {},
   "outputs": [],
   "source": [
    "t = medallas[0]\n"
   ]
  },
  {
   "cell_type": "code",
   "execution_count": 429,
   "id": "eebb8f53",
   "metadata": {},
   "outputs": [],
   "source": [
    "tbody = t.find(\"tbody\")\n"
   ]
  },
  {
   "cell_type": "code",
   "execution_count": 430,
   "id": "49442346",
   "metadata": {},
   "outputs": [],
   "source": [
    "trs = tbody.find_all(\"tr\")"
   ]
  },
  {
   "cell_type": "code",
   "execution_count": 431,
   "id": "a209a8c7",
   "metadata": {},
   "outputs": [
    {
     "data": {
      "text/plain": [
       "88"
      ]
     },
     "execution_count": 431,
     "metadata": {},
     "output_type": "execute_result"
    }
   ],
   "source": [
    "len(trs)"
   ]
  },
  {
   "cell_type": "code",
   "execution_count": 432,
   "id": "6d74c4ae",
   "metadata": {},
   "outputs": [],
   "source": [
    "tr = trs[5]"
   ]
  },
  {
   "cell_type": "code",
   "execution_count": 433,
   "id": "e97a2e56",
   "metadata": {},
   "outputs": [],
   "source": [
    "cols = tr.find_all(\"td\")"
   ]
  },
  {
   "cell_type": "code",
   "execution_count": 434,
   "id": "bedf1c0b",
   "metadata": {},
   "outputs": [
    {
     "data": {
      "text/plain": [
       "'42'"
      ]
     },
     "execution_count": 434,
     "metadata": {},
     "output_type": "execute_result"
    }
   ],
   "source": [
    "cols[5].text.strip()"
   ]
  },
  {
   "cell_type": "code",
   "execution_count": 435,
   "id": "56c4ce34",
   "metadata": {},
   "outputs": [],
   "source": [
    "def info_rows(row):\n",
    "    info = dict()\n",
    "    \n",
    "    cols = row.find_all(\"td\")\n",
    "    \n",
    "    info[\"rank\"] = (cols[0].text)\n",
    "    info[\"country\"] = cols[1].text.strip()\n",
    "    info[\"ngold\"] = int(cols[2].text)\n",
    "    info[\"nsilver\"] = int(cols[3].text)\n",
    "    info[\"nbronze\"] = int(cols[4].text)\n",
    "    info[\"Total\"] = (cols[5].text.strip())\n",
    "    \n",
    "    return info"
   ]
  },
  {
   "cell_type": "code",
   "execution_count": 436,
   "id": "c9e96c0e",
   "metadata": {},
   "outputs": [
    {
     "data": {
      "text/plain": [
       "{'rank': '5',\n",
       " 'country': 'Alemania\\xa0(GER)',\n",
       " 'ngold': 17,\n",
       " 'nsilver': 10,\n",
       " 'nbronze': 15,\n",
       " 'Total': '42'}"
      ]
     },
     "execution_count": 436,
     "metadata": {},
     "output_type": "execute_result"
    }
   ],
   "source": [
    "info_rows(trs[5])\n"
   ]
  },
  {
   "cell_type": "code",
   "execution_count": 437,
   "id": "a1eeb284",
   "metadata": {},
   "outputs": [
    {
     "name": "stdout",
     "output_type": "stream",
     "text": [
      "0\n"
     ]
    }
   ],
   "source": [
    "for i, row in enumerate(trs):\n",
    "    try:\n",
    "        info_rows(row)\n",
    "    except:\n",
    "        print(i)"
   ]
  },
  {
   "cell_type": "code",
   "execution_count": 438,
   "id": "147f569d",
   "metadata": {},
   "outputs": [
    {
     "data": {
      "text/html": [
       "<div>\n",
       "<style scoped>\n",
       "    .dataframe tbody tr th:only-of-type {\n",
       "        vertical-align: middle;\n",
       "    }\n",
       "\n",
       "    .dataframe tbody tr th {\n",
       "        vertical-align: top;\n",
       "    }\n",
       "\n",
       "    .dataframe thead th {\n",
       "        text-align: right;\n",
       "    }\n",
       "</style>\n",
       "<table border=\"1\" class=\"dataframe\">\n",
       "  <thead>\n",
       "    <tr style=\"text-align: right;\">\n",
       "      <th></th>\n",
       "      <th>rank</th>\n",
       "      <th>country</th>\n",
       "      <th>ngold</th>\n",
       "      <th>nsilver</th>\n",
       "      <th>nbronze</th>\n",
       "      <th>Total</th>\n",
       "    </tr>\n",
       "  </thead>\n",
       "  <tbody>\n",
       "    <tr>\n",
       "      <th>0</th>\n",
       "      <td>1</td>\n",
       "      <td>Estados Unidos (USA)</td>\n",
       "      <td>46</td>\n",
       "      <td>37</td>\n",
       "      <td>38</td>\n",
       "      <td>121</td>\n",
       "    </tr>\n",
       "    <tr>\n",
       "      <th>1</th>\n",
       "      <td>2</td>\n",
       "      <td>Reino Unido (GBR)</td>\n",
       "      <td>27</td>\n",
       "      <td>23</td>\n",
       "      <td>17</td>\n",
       "      <td>67</td>\n",
       "    </tr>\n",
       "    <tr>\n",
       "      <th>2</th>\n",
       "      <td>3</td>\n",
       "      <td>China (CHN)</td>\n",
       "      <td>26</td>\n",
       "      <td>18</td>\n",
       "      <td>26</td>\n",
       "      <td>70</td>\n",
       "    </tr>\n",
       "    <tr>\n",
       "      <th>3</th>\n",
       "      <td>4</td>\n",
       "      <td>Rusia (RUS)</td>\n",
       "      <td>19</td>\n",
       "      <td>17</td>\n",
       "      <td>20</td>\n",
       "      <td>56</td>\n",
       "    </tr>\n",
       "    <tr>\n",
       "      <th>4</th>\n",
       "      <td>5</td>\n",
       "      <td>Alemania (GER)</td>\n",
       "      <td>17</td>\n",
       "      <td>10</td>\n",
       "      <td>15</td>\n",
       "      <td>42</td>\n",
       "    </tr>\n",
       "    <tr>\n",
       "      <th>...</th>\n",
       "      <td>...</td>\n",
       "      <td>...</td>\n",
       "      <td>...</td>\n",
       "      <td>...</td>\n",
       "      <td>...</td>\n",
       "      <td>...</td>\n",
       "    </tr>\n",
       "    <tr>\n",
       "      <th>82</th>\n",
       "      <td>78</td>\n",
       "      <td>Nigeria (NGR)</td>\n",
       "      <td>0</td>\n",
       "      <td>0</td>\n",
       "      <td>1</td>\n",
       "      <td>1</td>\n",
       "    </tr>\n",
       "    <tr>\n",
       "      <th>83</th>\n",
       "      <td>78</td>\n",
       "      <td>Portugal (POR)</td>\n",
       "      <td>0</td>\n",
       "      <td>0</td>\n",
       "      <td>1</td>\n",
       "      <td>1</td>\n",
       "    </tr>\n",
       "    <tr>\n",
       "      <th>84</th>\n",
       "      <td>78</td>\n",
       "      <td>Trinidad y Tobago (TTO)</td>\n",
       "      <td>0</td>\n",
       "      <td>0</td>\n",
       "      <td>1</td>\n",
       "      <td>1</td>\n",
       "    </tr>\n",
       "    <tr>\n",
       "      <th>85</th>\n",
       "      <td>78</td>\n",
       "      <td>Emiratos Árabes Unidos (UAE)</td>\n",
       "      <td>0</td>\n",
       "      <td>0</td>\n",
       "      <td>1</td>\n",
       "      <td>1</td>\n",
       "    </tr>\n",
       "    <tr>\n",
       "      <th>86</th>\n",
       "      <td>Total</td>\n",
       "      <td>86 países</td>\n",
       "      <td>307</td>\n",
       "      <td>307</td>\n",
       "      <td>359</td>\n",
       "      <td>973</td>\n",
       "    </tr>\n",
       "  </tbody>\n",
       "</table>\n",
       "<p>87 rows × 6 columns</p>\n",
       "</div>"
      ],
      "text/plain": [
       "     rank                       country  ngold  nsilver  nbronze Total\n",
       "0       1          Estados Unidos (USA)     46       37       38   121\n",
       "1       2             Reino Unido (GBR)     27       23       17    67\n",
       "2       3                   China (CHN)     26       18       26    70\n",
       "3       4                   Rusia (RUS)     19       17       20    56\n",
       "4       5                Alemania (GER)     17       10       15    42\n",
       "..    ...                           ...    ...      ...      ...   ...\n",
       "82     78                 Nigeria (NGR)      0        0        1     1\n",
       "83     78                Portugal (POR)      0        0        1     1\n",
       "84     78       Trinidad y Tobago (TTO)      0        0        1     1\n",
       "85     78  Emiratos Árabes Unidos (UAE)      0        0        1     1\n",
       "86  Total                     86 países    307      307      359   973\n",
       "\n",
       "[87 rows x 6 columns]"
      ]
     },
     "execution_count": 438,
     "metadata": {},
     "output_type": "execute_result"
    }
   ],
   "source": [
    "pd.DataFrame([info_rows(row) for row in trs[1:]])"
   ]
  },
  {
   "cell_type": "code",
   "execution_count": 439,
   "id": "d00d55f4",
   "metadata": {},
   "outputs": [],
   "source": [
    "rio_16 = pd.DataFrame([info_rows(row) for row in trs[1:]])"
   ]
  },
  {
   "cell_type": "markdown",
   "id": "ed226fc0",
   "metadata": {},
   "source": [
    "# 2. Scraping Olympics Tokio 2021 From Wikipedia"
   ]
  },
  {
   "cell_type": "code",
   "execution_count": 204,
   "id": "c481c347",
   "metadata": {},
   "outputs": [],
   "source": [
    "url2 = \"https://es.wikipedia.org/wiki/Anexo:Medallero_de_los_Juegos_Ol%C3%ADmpicos_de_Tokio_2020\""
   ]
  },
  {
   "cell_type": "code",
   "execution_count": 373,
   "id": "a21fd2dd",
   "metadata": {},
   "outputs": [],
   "source": [
    "response2 = requests.get(url2)"
   ]
  },
  {
   "cell_type": "code",
   "execution_count": 374,
   "id": "8aea7df6",
   "metadata": {},
   "outputs": [
    {
     "data": {
      "text/plain": [
       "142712"
      ]
     },
     "execution_count": 374,
     "metadata": {},
     "output_type": "execute_result"
    }
   ],
   "source": [
    "len(response.content)"
   ]
  },
  {
   "cell_type": "code",
   "execution_count": 375,
   "id": "e24b8eff",
   "metadata": {},
   "outputs": [],
   "source": [
    "soup2 = BeautifulSoup(requests.get(url2).content)"
   ]
  },
  {
   "cell_type": "code",
   "execution_count": 376,
   "id": "89f6ec18",
   "metadata": {},
   "outputs": [
    {
     "data": {
      "text/plain": [
       "<title>Anexo:Medallero de los Juegos Olímpicos de Tokio 2020 - Wikipedia, la enciclopedia libre</title>"
      ]
     },
     "execution_count": 376,
     "metadata": {},
     "output_type": "execute_result"
    }
   ],
   "source": [
    "soup2.find(\"title\")"
   ]
  },
  {
   "cell_type": "code",
   "execution_count": 377,
   "id": "d22703af",
   "metadata": {},
   "outputs": [
    {
     "data": {
      "text/plain": [
       "214"
      ]
     },
     "execution_count": 377,
     "metadata": {},
     "output_type": "execute_result"
    }
   ],
   "source": [
    "len(soup2.find_all(\"span\"))"
   ]
  },
  {
   "cell_type": "code",
   "execution_count": 378,
   "id": "3b2b1ae7",
   "metadata": {},
   "outputs": [],
   "source": [
    "tokyo = soup2.find_all(\"table\")"
   ]
  },
  {
   "cell_type": "code",
   "execution_count": 379,
   "id": "08a201d7",
   "metadata": {},
   "outputs": [
    {
     "data": {
      "text/plain": [
       "3"
      ]
     },
     "execution_count": 379,
     "metadata": {},
     "output_type": "execute_result"
    }
   ],
   "source": [
    "len(tokyo)"
   ]
  },
  {
   "cell_type": "code",
   "execution_count": 380,
   "id": "33752d01",
   "metadata": {},
   "outputs": [
    {
     "name": "stdout",
     "output_type": "stream",
     "text": [
      "0\n"
     ]
    }
   ],
   "source": [
    "for i, t in enumerate(tokyo):\n",
    "    if \"Estados\" in str(t) and \"39\" in str(t):\n",
    "        print(i)"
   ]
  },
  {
   "cell_type": "code",
   "execution_count": 382,
   "id": "308749c9",
   "metadata": {},
   "outputs": [],
   "source": [
    "t = tokyo[0]"
   ]
  },
  {
   "cell_type": "code",
   "execution_count": 383,
   "id": "a600b6d4",
   "metadata": {},
   "outputs": [],
   "source": [
    "tbody = t.find(\"tbody\")"
   ]
  },
  {
   "cell_type": "code",
   "execution_count": 385,
   "id": "a2b23c2f",
   "metadata": {},
   "outputs": [],
   "source": [
    "trs = tbody.find_all(\"tr\")"
   ]
  },
  {
   "cell_type": "code",
   "execution_count": 386,
   "id": "aab5a177",
   "metadata": {},
   "outputs": [
    {
     "data": {
      "text/plain": [
       "95"
      ]
     },
     "execution_count": 386,
     "metadata": {},
     "output_type": "execute_result"
    }
   ],
   "source": [
    "len(trs)"
   ]
  },
  {
   "cell_type": "code",
   "execution_count": 387,
   "id": "2009d4e7",
   "metadata": {},
   "outputs": [],
   "source": [
    "tr = trs[5]"
   ]
  },
  {
   "cell_type": "code",
   "execution_count": 389,
   "id": "6e38c4ee",
   "metadata": {},
   "outputs": [],
   "source": [
    "cols = tr.find_all(\"td\")"
   ]
  },
  {
   "cell_type": "code",
   "execution_count": 390,
   "id": "fa4ca1b2",
   "metadata": {},
   "outputs": [
    {
     "data": {
      "text/plain": [
       "'71'"
      ]
     },
     "execution_count": 390,
     "metadata": {},
     "output_type": "execute_result"
    }
   ],
   "source": [
    "cols[5].text.strip()"
   ]
  },
  {
   "cell_type": "code",
   "execution_count": 391,
   "id": "d045df3f",
   "metadata": {},
   "outputs": [],
   "source": [
    "def rows_tokyo(row):\n",
    "    info = dict()\n",
    "    \n",
    "    cols = row.find_all(\"td\")\n",
    "    \n",
    "    info[\"rank\"] = (cols[0].text)\n",
    "    info[\"country\"] = cols[1].text.strip()\n",
    "    info[\"ngold\"] = int(cols[2].text)\n",
    "    info[\"nsilver\"] = int(cols[3].text)\n",
    "    info[\"nbronze\"] = int(cols[4].text)\n",
    "    info[\"Total\"] = (cols[5].text.strip())\n",
    "    \n",
    "    return info"
   ]
  },
  {
   "cell_type": "code",
   "execution_count": 392,
   "id": "b6efb7e7",
   "metadata": {},
   "outputs": [
    {
     "data": {
      "text/plain": [
       "{'rank': '5',\n",
       " 'country': 'ROC (ROC)',\n",
       " 'ngold': 20,\n",
       " 'nsilver': 28,\n",
       " 'nbronze': 23,\n",
       " 'Total': '71'}"
      ]
     },
     "execution_count": 392,
     "metadata": {},
     "output_type": "execute_result"
    }
   ],
   "source": [
    "rows_tokyo(trs[5])"
   ]
  },
  {
   "cell_type": "code",
   "execution_count": 393,
   "id": "a02e909a",
   "metadata": {},
   "outputs": [
    {
     "name": "stdout",
     "output_type": "stream",
     "text": [
      "0\n"
     ]
    }
   ],
   "source": [
    "for i, row in enumerate(trs):\n",
    "    try:\n",
    "        rows_tokyo(row)\n",
    "    except:\n",
    "        print(i)"
   ]
  },
  {
   "cell_type": "code",
   "execution_count": 396,
   "id": "4606ced9",
   "metadata": {},
   "outputs": [
    {
     "data": {
      "text/html": [
       "<div>\n",
       "<style scoped>\n",
       "    .dataframe tbody tr th:only-of-type {\n",
       "        vertical-align: middle;\n",
       "    }\n",
       "\n",
       "    .dataframe tbody tr th {\n",
       "        vertical-align: top;\n",
       "    }\n",
       "\n",
       "    .dataframe thead th {\n",
       "        text-align: right;\n",
       "    }\n",
       "</style>\n",
       "<table border=\"1\" class=\"dataframe\">\n",
       "  <thead>\n",
       "    <tr style=\"text-align: right;\">\n",
       "      <th></th>\n",
       "      <th>rank</th>\n",
       "      <th>country</th>\n",
       "      <th>ngold</th>\n",
       "      <th>nsilver</th>\n",
       "      <th>nbronze</th>\n",
       "      <th>Total</th>\n",
       "    </tr>\n",
       "  </thead>\n",
       "  <tbody>\n",
       "    <tr>\n",
       "      <th>0</th>\n",
       "      <td>1</td>\n",
       "      <td>Estados Unidos (USA)</td>\n",
       "      <td>39</td>\n",
       "      <td>41</td>\n",
       "      <td>33</td>\n",
       "      <td>113</td>\n",
       "    </tr>\n",
       "    <tr>\n",
       "      <th>1</th>\n",
       "      <td>2</td>\n",
       "      <td>China (CHN)</td>\n",
       "      <td>38</td>\n",
       "      <td>32</td>\n",
       "      <td>18</td>\n",
       "      <td>88</td>\n",
       "    </tr>\n",
       "    <tr>\n",
       "      <th>2</th>\n",
       "      <td>3</td>\n",
       "      <td>Japón (JPN)</td>\n",
       "      <td>27</td>\n",
       "      <td>14</td>\n",
       "      <td>17</td>\n",
       "      <td>58</td>\n",
       "    </tr>\n",
       "    <tr>\n",
       "      <th>3</th>\n",
       "      <td>4</td>\n",
       "      <td>Reino Unido (GBR)</td>\n",
       "      <td>22</td>\n",
       "      <td>21</td>\n",
       "      <td>22</td>\n",
       "      <td>65</td>\n",
       "    </tr>\n",
       "    <tr>\n",
       "      <th>4</th>\n",
       "      <td>5</td>\n",
       "      <td>ROC (ROC)</td>\n",
       "      <td>20</td>\n",
       "      <td>28</td>\n",
       "      <td>23</td>\n",
       "      <td>71</td>\n",
       "    </tr>\n",
       "    <tr>\n",
       "      <th>...</th>\n",
       "      <td>...</td>\n",
       "      <td>...</td>\n",
       "      <td>...</td>\n",
       "      <td>...</td>\n",
       "      <td>...</td>\n",
       "      <td>...</td>\n",
       "    </tr>\n",
       "    <tr>\n",
       "      <th>89</th>\n",
       "      <td>86</td>\n",
       "      <td>Granada (GRN)</td>\n",
       "      <td>0</td>\n",
       "      <td>0</td>\n",
       "      <td>1</td>\n",
       "      <td>1</td>\n",
       "    </tr>\n",
       "    <tr>\n",
       "      <th>90</th>\n",
       "      <td>86</td>\n",
       "      <td>Kuwait (KUW)</td>\n",
       "      <td>0</td>\n",
       "      <td>0</td>\n",
       "      <td>1</td>\n",
       "      <td>1</td>\n",
       "    </tr>\n",
       "    <tr>\n",
       "      <th>91</th>\n",
       "      <td>86</td>\n",
       "      <td>Moldavia (MDA)</td>\n",
       "      <td>0</td>\n",
       "      <td>0</td>\n",
       "      <td>1</td>\n",
       "      <td>1</td>\n",
       "    </tr>\n",
       "    <tr>\n",
       "      <th>92</th>\n",
       "      <td>86</td>\n",
       "      <td>Siria (SYR)</td>\n",
       "      <td>0</td>\n",
       "      <td>0</td>\n",
       "      <td>1</td>\n",
       "      <td>1</td>\n",
       "    </tr>\n",
       "    <tr>\n",
       "      <th>93</th>\n",
       "      <td>Total</td>\n",
       "      <td>93 países</td>\n",
       "      <td>340</td>\n",
       "      <td>338</td>\n",
       "      <td>402</td>\n",
       "      <td>1080</td>\n",
       "    </tr>\n",
       "  </tbody>\n",
       "</table>\n",
       "<p>94 rows × 6 columns</p>\n",
       "</div>"
      ],
      "text/plain": [
       "     rank               country  ngold  nsilver  nbronze Total\n",
       "0       1  Estados Unidos (USA)     39       41       33   113\n",
       "1       2           China (CHN)     38       32       18    88\n",
       "2       3           Japón (JPN)     27       14       17    58\n",
       "3       4     Reino Unido (GBR)     22       21       22    65\n",
       "4       5             ROC (ROC)     20       28       23    71\n",
       "..    ...                   ...    ...      ...      ...   ...\n",
       "89     86         Granada (GRN)      0        0        1     1\n",
       "90     86          Kuwait (KUW)      0        0        1     1\n",
       "91     86        Moldavia (MDA)      0        0        1     1\n",
       "92     86           Siria (SYR)      0        0        1     1\n",
       "93  Total             93 países    340      338      402  1080\n",
       "\n",
       "[94 rows x 6 columns]"
      ]
     },
     "execution_count": 396,
     "metadata": {},
     "output_type": "execute_result"
    }
   ],
   "source": [
    "pd.DataFrame([rows_tokyo(row) for row in trs[1:]])"
   ]
  },
  {
   "cell_type": "code",
   "execution_count": 398,
   "id": "4f914356",
   "metadata": {},
   "outputs": [],
   "source": [
    "tokyo_21 = pd.DataFrame([rows_tokyo(row) for row in trs[1:]])"
   ]
  },
  {
   "cell_type": "markdown",
   "id": "3f7773e2",
   "metadata": {},
   "source": [
    "### Once we've scraped both links, I have the data updated"
   ]
  },
  {
   "cell_type": "markdown",
   "id": "90c3e749",
   "metadata": {},
   "source": [
    "## Vemos que el líder indiscutible sigue siendo EEUU y China se está acercando"
   ]
  },
  {
   "cell_type": "code",
   "execution_count": null,
   "id": "c7edf51d",
   "metadata": {},
   "outputs": [],
   "source": []
  }
 ],
 "metadata": {
  "kernelspec": {
   "display_name": "ironhack2",
   "language": "python",
   "name": "ironhack2"
  },
  "language_info": {
   "codemirror_mode": {
    "name": "ipython",
    "version": 3
   },
   "file_extension": ".py",
   "mimetype": "text/x-python",
   "name": "python",
   "nbconvert_exporter": "python",
   "pygments_lexer": "ipython3",
   "version": "3.8.2"
  }
 },
 "nbformat": 4,
 "nbformat_minor": 5
}
